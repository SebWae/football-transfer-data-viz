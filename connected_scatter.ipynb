{
 "cells": [
  {
   "cell_type": "code",
   "execution_count": 43,
   "metadata": {},
   "outputs": [],
   "source": [
    "import pandas as pd"
   ]
  },
  {
   "cell_type": "code",
   "execution_count": 44,
   "metadata": {},
   "outputs": [
    {
     "data": {
      "text/html": [
       "<div>\n",
       "<style scoped>\n",
       "    .dataframe tbody tr th:only-of-type {\n",
       "        vertical-align: middle;\n",
       "    }\n",
       "\n",
       "    .dataframe tbody tr th {\n",
       "        vertical-align: top;\n",
       "    }\n",
       "\n",
       "    .dataframe thead th {\n",
       "        text-align: right;\n",
       "    }\n",
       "</style>\n",
       "<table border=\"1\" class=\"dataframe\">\n",
       "  <thead>\n",
       "    <tr style=\"text-align: right;\">\n",
       "      <th></th>\n",
       "      <th>Season</th>\n",
       "      <th>Player</th>\n",
       "      <th>From_Club</th>\n",
       "      <th>To_Club</th>\n",
       "      <th>From_League</th>\n",
       "      <th>To_League</th>\n",
       "      <th>Fee</th>\n",
       "    </tr>\n",
       "  </thead>\n",
       "  <tbody>\n",
       "    <tr>\n",
       "      <th>0</th>\n",
       "      <td>18/19</td>\n",
       "      <td>Riyad Mahrez</td>\n",
       "      <td>leicester-city</td>\n",
       "      <td>manchester-city</td>\n",
       "      <td>GB1</td>\n",
       "      <td>GB1</td>\n",
       "      <td>67800000.0</td>\n",
       "    </tr>\n",
       "    <tr>\n",
       "      <th>1</th>\n",
       "      <td>18/19</td>\n",
       "      <td>Ante Palaversa</td>\n",
       "      <td>hnk-hajduk-split</td>\n",
       "      <td>manchester-city</td>\n",
       "      <td>KR1</td>\n",
       "      <td>GB1</td>\n",
       "      <td>6300000.0</td>\n",
       "    </tr>\n",
       "    <tr>\n",
       "      <th>2</th>\n",
       "      <td>18/19</td>\n",
       "      <td>Philippe Sandler</td>\n",
       "      <td>pec-zwolle</td>\n",
       "      <td>manchester-city</td>\n",
       "      <td>NL1</td>\n",
       "      <td>GB1</td>\n",
       "      <td>2500000.0</td>\n",
       "    </tr>\n",
       "    <tr>\n",
       "      <th>3</th>\n",
       "      <td>18/19</td>\n",
       "      <td>Ko Itakura</td>\n",
       "      <td>kawasaki-frontale</td>\n",
       "      <td>manchester-city</td>\n",
       "      <td>JAP1</td>\n",
       "      <td>GB1</td>\n",
       "      <td>1100000.0</td>\n",
       "    </tr>\n",
       "    <tr>\n",
       "      <th>4</th>\n",
       "      <td>18/19</td>\n",
       "      <td>Daniel Arzani</td>\n",
       "      <td>melbourne-city-fc</td>\n",
       "      <td>manchester-city</td>\n",
       "      <td>AUS1</td>\n",
       "      <td>GB1</td>\n",
       "      <td>890000.0</td>\n",
       "    </tr>\n",
       "  </tbody>\n",
       "</table>\n",
       "</div>"
      ],
      "text/plain": [
       "  Season            Player          From_Club          To_Club From_League   \n",
       "0  18/19      Riyad Mahrez     leicester-city  manchester-city         GB1  \\\n",
       "1  18/19    Ante Palaversa   hnk-hajduk-split  manchester-city         KR1   \n",
       "2  18/19  Philippe Sandler         pec-zwolle  manchester-city         NL1   \n",
       "3  18/19        Ko Itakura  kawasaki-frontale  manchester-city        JAP1   \n",
       "4  18/19     Daniel Arzani  melbourne-city-fc  manchester-city        AUS1   \n",
       "\n",
       "  To_League         Fee  \n",
       "0       GB1  67800000.0  \n",
       "1       GB1   6300000.0  \n",
       "2       GB1   2500000.0  \n",
       "3       GB1   1100000.0  \n",
       "4       GB1    890000.0  "
      ]
     },
     "execution_count": 44,
     "metadata": {},
     "output_type": "execute_result"
    }
   ],
   "source": [
    "df = pd.read_csv(\"data/all_transfers_no_duplicates_updated.csv\")\n",
    "df.head()"
   ]
  },
  {
   "cell_type": "code",
   "execution_count": 45,
   "metadata": {},
   "outputs": [],
   "source": [
    "seasons = set(df[\"Season\"])\n",
    "leagues = set(df[\"From_League\"]).union(set(df[\"To_League\"]))\n",
    "leagues_dict = {league : {\"income\": 0, \"spending\": 0} for league in leagues}"
   ]
  },
  {
   "cell_type": "code",
   "execution_count": 46,
   "metadata": {},
   "outputs": [],
   "source": [
    "index_tuples = []\n",
    "for x in leagues:\n",
    "    index_tuples.extend([(x,y) for y in seasons])"
   ]
  },
  {
   "cell_type": "code",
   "execution_count": 47,
   "metadata": {},
   "outputs": [],
   "source": [
    "index = pd.MultiIndex.from_tuples(index_tuples, names=[\"league\", \"season\"])\n"
   ]
  },
  {
   "cell_type": "code",
   "execution_count": 48,
   "metadata": {},
   "outputs": [],
   "source": [
    "transfer_df = pd.DataFrame(0, index=index, columns=(\"income\", \"spending\"))"
   ]
  },
  {
   "cell_type": "code",
   "execution_count": 49,
   "metadata": {},
   "outputs": [],
   "source": [
    "for i in range(len(df)):\n",
    "    row = df.iloc[i]\n",
    "    transfer_df.loc[row[\"From_League\"], row[\"Season\"]][\"income\"] += row[\"Fee\"]\n",
    "    transfer_df.loc[row[\"To_League\"], row[\"Season\"]][\"spending\"] += row[\"Fee\"]"
   ]
  },
  {
   "cell_type": "code",
   "execution_count": 51,
   "metadata": {},
   "outputs": [],
   "source": [
    "# transfer_df.to_csv(\"connected_scatter.csv\")"
   ]
  }
 ],
 "metadata": {
  "kernelspec": {
   "display_name": "Python 3",
   "language": "python",
   "name": "python3"
  },
  "language_info": {
   "codemirror_mode": {
    "name": "ipython",
    "version": 3
   },
   "file_extension": ".py",
   "mimetype": "text/x-python",
   "name": "python",
   "nbconvert_exporter": "python",
   "pygments_lexer": "ipython3",
   "version": "3.10.5"
  }
 },
 "nbformat": 4,
 "nbformat_minor": 2
}
