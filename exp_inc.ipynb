{
 "cells": [
  {
   "cell_type": "markdown",
   "metadata": {},
   "source": [
    "## Transfer Expenditure and Income"
   ]
  },
  {
   "cell_type": "code",
   "execution_count": 3,
   "metadata": {},
   "outputs": [],
   "source": [
    "# imports\n",
    "import bs4 as bs\n",
    "import requests\n",
    "import pandas as pd\n",
    "from tqdm import tqdm\n",
    "import numpy as np\n",
    "import pickle\n",
    "import sys\n",
    "import pyarrow as pa"
   ]
  },
  {
   "cell_type": "code",
   "execution_count": 4,
   "metadata": {},
   "outputs": [],
   "source": [
    "def create_soup(url):\n",
    "    headers = {\"User-Agent\": \"Mozilla/5.0 (Macintosh; Intel Mac OS X 10_15_7) \"\n",
    "                         \"AppleWebKit/605.1.15 (KHTML, like Gecko) \"\n",
    "                         \"Version/15.4 Safari/605.1.15\"}\n",
    "    page = requests.get(url, headers=headers)\n",
    "    soup = bs.BeautifulSoup(page.content,'html.parser')\n",
    "    return soup"
   ]
  },
  {
   "cell_type": "code",
   "execution_count": 2,
   "metadata": {},
   "outputs": [
    {
     "data": {
      "text/html": [
       "<div>\n",
       "<style scoped>\n",
       "    .dataframe tbody tr th:only-of-type {\n",
       "        vertical-align: middle;\n",
       "    }\n",
       "\n",
       "    .dataframe tbody tr th {\n",
       "        vertical-align: top;\n",
       "    }\n",
       "\n",
       "    .dataframe thead th {\n",
       "        text-align: right;\n",
       "    }\n",
       "</style>\n",
       "<table border=\"1\" class=\"dataframe\">\n",
       "  <thead>\n",
       "    <tr style=\"text-align: right;\">\n",
       "      <th></th>\n",
       "      <th>Season</th>\n",
       "      <th>Player</th>\n",
       "      <th>From_Club</th>\n",
       "      <th>To_Club</th>\n",
       "      <th>From_League</th>\n",
       "      <th>To_League</th>\n",
       "      <th>Fee</th>\n",
       "    </tr>\n",
       "  </thead>\n",
       "  <tbody>\n",
       "    <tr>\n",
       "      <th>0</th>\n",
       "      <td>18/19</td>\n",
       "      <td>Riyad Mahrez</td>\n",
       "      <td>leicester-city</td>\n",
       "      <td>manchester-city</td>\n",
       "      <td>GB1</td>\n",
       "      <td>GB1</td>\n",
       "      <td>67800000.0</td>\n",
       "    </tr>\n",
       "    <tr>\n",
       "      <th>1</th>\n",
       "      <td>18/19</td>\n",
       "      <td>Ante Palaversa</td>\n",
       "      <td>hnk-hajduk-split</td>\n",
       "      <td>manchester-city</td>\n",
       "      <td>KR1</td>\n",
       "      <td>GB1</td>\n",
       "      <td>6300000.0</td>\n",
       "    </tr>\n",
       "    <tr>\n",
       "      <th>2</th>\n",
       "      <td>18/19</td>\n",
       "      <td>Philippe Sandler</td>\n",
       "      <td>pec-zwolle</td>\n",
       "      <td>manchester-city</td>\n",
       "      <td>NL1</td>\n",
       "      <td>GB1</td>\n",
       "      <td>2500000.0</td>\n",
       "    </tr>\n",
       "    <tr>\n",
       "      <th>3</th>\n",
       "      <td>18/19</td>\n",
       "      <td>Ko Itakura</td>\n",
       "      <td>kawasaki-frontale</td>\n",
       "      <td>manchester-city</td>\n",
       "      <td>JAP1</td>\n",
       "      <td>GB1</td>\n",
       "      <td>1100000.0</td>\n",
       "    </tr>\n",
       "    <tr>\n",
       "      <th>4</th>\n",
       "      <td>18/19</td>\n",
       "      <td>Daniel Arzani</td>\n",
       "      <td>melbourne-city-fc</td>\n",
       "      <td>manchester-city</td>\n",
       "      <td>AUS1</td>\n",
       "      <td>GB1</td>\n",
       "      <td>890000.0</td>\n",
       "    </tr>\n",
       "  </tbody>\n",
       "</table>\n",
       "</div>"
      ],
      "text/plain": [
       "  Season            Player          From_Club          To_Club From_League  \\\n",
       "0  18/19      Riyad Mahrez     leicester-city  manchester-city         GB1   \n",
       "1  18/19    Ante Palaversa   hnk-hajduk-split  manchester-city         KR1   \n",
       "2  18/19  Philippe Sandler         pec-zwolle  manchester-city         NL1   \n",
       "3  18/19        Ko Itakura  kawasaki-frontale  manchester-city        JAP1   \n",
       "4  18/19     Daniel Arzani  melbourne-city-fc  manchester-city        AUS1   \n",
       "\n",
       "  To_League         Fee  \n",
       "0       GB1  67800000.0  \n",
       "1       GB1   6300000.0  \n",
       "2       GB1   2500000.0  \n",
       "3       GB1   1100000.0  \n",
       "4       GB1    890000.0  "
      ]
     },
     "execution_count": 2,
     "metadata": {},
     "output_type": "execute_result"
    }
   ],
   "source": [
    "# loading in the transfer data\n",
    "transfer_df = pd.read_csv('data/all_transfers_no_duplicates_updated.csv')\n",
    "transfer_df.head()"
   ]
  },
  {
   "cell_type": "code",
   "execution_count": 5,
   "metadata": {},
   "outputs": [],
   "source": [
    "url = 'https://www.transfermarkt.com/premier-league/startseite/wettbewerb/GB1/plus/?saison_id=2018'\n",
    "soup = create_soup(url)"
   ]
  },
  {
   "cell_type": "code",
   "execution_count": 21,
   "metadata": {},
   "outputs": [
    {
     "data": {
      "text/plain": [
       "'manchester-city'"
      ]
     },
     "execution_count": 21,
     "metadata": {},
     "output_type": "execute_result"
    }
   ],
   "source": [
    "soup.find_all('table', class_='items')[0].find('tbody').find_all('tr')[0].find('td', class_='hauptlink no-border-links').find('a').get('href').split('/')[1]"
   ]
  },
  {
   "cell_type": "code",
   "execution_count": 41,
   "metadata": {},
   "outputs": [
    {
     "name": "stderr",
     "output_type": "stream",
     "text": [
      "100%|██████████| 20/20 [00:00<00:00, 614.11it/s]\n",
      "100%|██████████| 20/20 [00:00<00:00, 526.08it/s]\n",
      "100%|██████████| 20/20 [00:00<00:00, 643.62it/s]\n",
      "100%|██████████| 20/20 [00:00<00:00, 295.33it/s]\n",
      "100%|██████████| 20/20 [00:00<00:00, 366.56it/s]\n"
     ]
    }
   ],
   "source": [
    "years = [\"2018\", \"2019\", \"2020\", \"2021\", \"2022\"]\n",
    "seasons = [\"18/19\",\"19/20\", \"20/21\", \"21/22\", \"22/23\"]\n",
    "dfs = []\n",
    "league_id = 'FR1'\n",
    "league_code = 'ligue-1'\n",
    "\n",
    "for year, main_season in zip(years, seasons):\n",
    "\n",
    "    url = f'https://www.transfermarkt.com/{league_code}/startseite/wettbewerb/{league_id}/plus/?saison_id={year}'\n",
    "    soup = create_soup(url)\n",
    "    table = soup.find_all('table', class_='items')[0].find('tbody').find_all('tr')\n",
    "\n",
    "    club_codes = []\n",
    "    club_names = []\n",
    "    expenditures = []\n",
    "    incomes = []\n",
    "\n",
    "    for row in tqdm(table):\n",
    "        club_section = row.find('td', class_='hauptlink no-border-links').find('a')\n",
    "        club_name = club_section.string\n",
    "        club_link = club_section.get('href')\n",
    "        club_code = club_link.split('/')[1]\n",
    "\n",
    "        mask_exp = (transfer_df['Season'] == main_season) & (transfer_df['To_Club'] == club_code)\n",
    "        exp = np.sum(transfer_df.loc[mask_exp, ]['Fee'])\n",
    "\n",
    "        mask_inc = (transfer_df['Season'] == main_season) & (transfer_df['From_Club'] == club_code)\n",
    "        inc = np.sum(transfer_df.loc[mask_inc, ]['Fee'])\n",
    "\n",
    "        club_codes.append(club_code)\n",
    "        club_names.append(club_name)\n",
    "        expenditures.append(exp)\n",
    "        incomes.append(inc)\n",
    "            \n",
    "    data = {'Season': [main_season]*len(club_codes),\n",
    "            'League': [league_id]*len(club_codes),\n",
    "            'club_code': club_codes, \n",
    "            'club_name': club_names,\n",
    "            'Expenditure': expenditures,\n",
    "            'Income': incomes}\n",
    "    df = pd.DataFrame(data)\n",
    "    dfs.append(df)"
   ]
  },
  {
   "cell_type": "code",
   "execution_count": 42,
   "metadata": {},
   "outputs": [
    {
     "data": {
      "text/html": [
       "<div>\n",
       "<style scoped>\n",
       "    .dataframe tbody tr th:only-of-type {\n",
       "        vertical-align: middle;\n",
       "    }\n",
       "\n",
       "    .dataframe tbody tr th {\n",
       "        vertical-align: top;\n",
       "    }\n",
       "\n",
       "    .dataframe thead th {\n",
       "        text-align: right;\n",
       "    }\n",
       "</style>\n",
       "<table border=\"1\" class=\"dataframe\">\n",
       "  <thead>\n",
       "    <tr style=\"text-align: right;\">\n",
       "      <th></th>\n",
       "      <th>Season</th>\n",
       "      <th>League</th>\n",
       "      <th>club_code</th>\n",
       "      <th>club_name</th>\n",
       "      <th>Expenditure</th>\n",
       "      <th>Income</th>\n",
       "    </tr>\n",
       "  </thead>\n",
       "  <tbody>\n",
       "    <tr>\n",
       "      <th>0</th>\n",
       "      <td>18/19</td>\n",
       "      <td>FR1</td>\n",
       "      <td>fc-paris-saint-germain</td>\n",
       "      <td>Paris Saint-Germain</td>\n",
       "      <td>262000000.0</td>\n",
       "      <td>109500000.0</td>\n",
       "    </tr>\n",
       "    <tr>\n",
       "      <th>1</th>\n",
       "      <td>18/19</td>\n",
       "      <td>FR1</td>\n",
       "      <td>olympique-lyon</td>\n",
       "      <td>Olympique Lyon</td>\n",
       "      <td>46450000.0</td>\n",
       "      <td>90100000.0</td>\n",
       "    </tr>\n",
       "    <tr>\n",
       "      <th>2</th>\n",
       "      <td>18/19</td>\n",
       "      <td>FR1</td>\n",
       "      <td>as-monaco</td>\n",
       "      <td>AS Monaco</td>\n",
       "      <td>145400000.0</td>\n",
       "      <td>361100000.0</td>\n",
       "    </tr>\n",
       "    <tr>\n",
       "      <th>3</th>\n",
       "      <td>18/19</td>\n",
       "      <td>FR1</td>\n",
       "      <td>losc-lille</td>\n",
       "      <td>LOSC Lille</td>\n",
       "      <td>29100000.0</td>\n",
       "      <td>67700000.0</td>\n",
       "    </tr>\n",
       "    <tr>\n",
       "      <th>4</th>\n",
       "      <td>18/19</td>\n",
       "      <td>FR1</td>\n",
       "      <td>olympique-marseille</td>\n",
       "      <td>Olympique Marseille</td>\n",
       "      <td>66000000.0</td>\n",
       "      <td>32850000.0</td>\n",
       "    </tr>\n",
       "  </tbody>\n",
       "</table>\n",
       "</div>"
      ],
      "text/plain": [
       "  Season League               club_code            club_name  Expenditure  \\\n",
       "0  18/19    FR1  fc-paris-saint-germain  Paris Saint-Germain  262000000.0   \n",
       "1  18/19    FR1          olympique-lyon       Olympique Lyon   46450000.0   \n",
       "2  18/19    FR1               as-monaco            AS Monaco  145400000.0   \n",
       "3  18/19    FR1              losc-lille           LOSC Lille   29100000.0   \n",
       "4  18/19    FR1     olympique-marseille  Olympique Marseille   66000000.0   \n",
       "\n",
       "        Income  \n",
       "0  109500000.0  \n",
       "1   90100000.0  \n",
       "2  361100000.0  \n",
       "3   67700000.0  \n",
       "4   32850000.0  "
      ]
     },
     "execution_count": 42,
     "metadata": {},
     "output_type": "execute_result"
    }
   ],
   "source": [
    "main_df = pd.concat(dfs)\n",
    "\n",
    "# Display the DataFrame using df.head()\n",
    "main_df.head()"
   ]
  },
  {
   "cell_type": "code",
   "execution_count": 43,
   "metadata": {},
   "outputs": [],
   "source": [
    "# saving dataframe as csv file\n",
    "main_df.to_csv('L1_exp_inc.csv', index=False)"
   ]
  },
  {
   "cell_type": "code",
   "execution_count": 44,
   "metadata": {},
   "outputs": [],
   "source": [
    "# combining csv files\n",
    "file_names = ['PL_exp_inc.csv', 'LL_exp_inc.csv', 'BL_exp_inc.csv', 'SA_exp_inc.csv', 'L1_exp_inc.csv']\n",
    "dfs = []\n",
    "\n",
    "for file_name in file_names:\n",
    "    df = pd.read_csv(file_name)\n",
    "    dfs.append(df)\n",
    "\n",
    "combined_df = pd.concat(dfs, ignore_index=True)\n",
    "combined_df.to_csv('exp_inc.csv', index=False)"
   ]
  }
 ],
 "metadata": {
  "kernelspec": {
   "display_name": "lsda",
   "language": "python",
   "name": "python3"
  },
  "language_info": {
   "codemirror_mode": {
    "name": "ipython",
    "version": 3
   },
   "file_extension": ".py",
   "mimetype": "text/x-python",
   "name": "python",
   "nbconvert_exporter": "python",
   "pygments_lexer": "ipython3",
   "version": "3.11.8"
  }
 },
 "nbformat": 4,
 "nbformat_minor": 2
}
